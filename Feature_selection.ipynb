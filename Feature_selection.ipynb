{
 "cells": [
  {
   "cell_type": "code",
   "execution_count": 1,
   "id": "d92690b4",
   "metadata": {},
   "outputs": [],
   "source": [
    "import pickle\n",
    "import copy\n",
    "import numpy as np\n",
    "import matplotlib.pyplot as plt\n",
    "from sklearn.preprocessing import MinMaxScaler\n",
    "from sklearn.preprocessing import StandardScaler\n",
    "from sklearn.model_selection import train_test_split\n",
    "from sklearn.model_selection import StratifiedKFold\n",
    "from sklearn import svm\n",
    "from sklearn.svm import LinearSVC"
   ]
  },
  {
   "cell_type": "code",
   "execution_count": 2,
   "id": "4073c32b",
   "metadata": {},
   "outputs": [],
   "source": [
    "from sklearn.feature_selection import SelectKBest\n",
    "from sklearn.feature_selection import f_classif\n",
    "from sklearn.feature_selection import mutual_info_classif\n",
    "from sklearn.feature_selection import chi2\n",
    "from sklearn.feature_selection import RFECV\n",
    "from sklearn.feature_selection import SelectFromModel"
   ]
  },
  {
   "cell_type": "code",
   "execution_count": 3,
   "id": "4d212e6f",
   "metadata": {},
   "outputs": [],
   "source": [
    "mode = 'SVM'"
   ]
  },
  {
   "cell_type": "markdown",
   "id": "aa89303b",
   "metadata": {},
   "source": [
    "Generate the dataset"
   ]
  },
  {
   "cell_type": "code",
   "execution_count": 4,
   "id": "718150ef",
   "metadata": {},
   "outputs": [],
   "source": [
    "f2= open(\"input_spike_294.pickle\",'rb')\n",
    "input_spike = pickle.load(f2)\n",
    "f2.close()\n",
    "\n",
    "f3= open(\"target_label_294.pickle\",'rb')\n",
    "out_direction = pickle.load(f3)\n",
    "f3.close()"
   ]
  },
  {
   "cell_type": "code",
   "execution_count": 5,
   "id": "cb119bd7",
   "metadata": {},
   "outputs": [
    {
     "name": "stdout",
     "output_type": "stream",
     "text": [
      "(294, 71, 80)\n",
      "(294,)\n"
     ]
    }
   ],
   "source": [
    "print(input_spike.shape)\n",
    "print(out_direction.shape)"
   ]
  },
  {
   "cell_type": "code",
   "execution_count": 6,
   "id": "b26ac5db",
   "metadata": {},
   "outputs": [
    {
     "name": "stdout",
     "output_type": "stream",
     "text": [
      "(294, 71)\n"
     ]
    }
   ],
   "source": [
    "input_spike = np.sum(input_spike,axis = 2)\n",
    "print(input_spike.shape)"
   ]
  },
  {
   "cell_type": "code",
   "execution_count": 7,
   "id": "4f216c80",
   "metadata": {},
   "outputs": [],
   "source": [
    "input_spike[:,40] = 0"
   ]
  },
  {
   "cell_type": "markdown",
   "id": "22ac6f24",
   "metadata": {},
   "source": [
    "## Select k best"
   ]
  },
  {
   "cell_type": "markdown",
   "id": "038b448d",
   "metadata": {},
   "source": [
    "ours, 15 neurons, mean accuray 85.68%"
   ]
  },
  {
   "cell_type": "code",
   "execution_count": 20,
   "id": "d3f40e38",
   "metadata": {},
   "outputs": [],
   "source": [
    "selected_unit2 = [10, 11, 12, 14, 21, 22, 26,30, 32, 35, 38, 44, 63, 64, 67]"
   ]
  },
  {
   "cell_type": "markdown",
   "id": "516c31ce",
   "metadata": {},
   "source": [
    "f_classif, 15 neurons,accuracy 81.92%. "
   ]
  },
  {
   "cell_type": "code",
   "execution_count": 8,
   "id": "fcd252ea",
   "metadata": {},
   "outputs": [],
   "source": [
    "selector = SelectKBest(f_classif, k=15)"
   ]
  },
  {
   "cell_type": "code",
   "execution_count": 9,
   "id": "c9b6d677",
   "metadata": {},
   "outputs": [
    {
     "name": "stderr",
     "output_type": "stream",
     "text": [
      "C:\\Users\\user\\anaconda3\\envs\\success\\lib\\site-packages\\sklearn\\feature_selection\\_univariate_selection.py:112: UserWarning: Features [40] are constant.\n",
      "  warnings.warn(\"Features %s are constant.\" % constant_features_idx, UserWarning)\n",
      "C:\\Users\\user\\anaconda3\\envs\\success\\lib\\site-packages\\sklearn\\feature_selection\\_univariate_selection.py:113: RuntimeWarning: invalid value encountered in true_divide\n",
      "  f = msb / msw\n"
     ]
    }
   ],
   "source": [
    "X_new = selector.fit(input_spike, out_direction)"
   ]
  },
  {
   "cell_type": "code",
   "execution_count": 10,
   "id": "8d0204d0",
   "metadata": {},
   "outputs": [
    {
     "name": "stdout",
     "output_type": "stream",
     "text": [
      "[False False False False False False False False  True  True  True False\n",
      "  True  True  True False False False False False False  True  True False\n",
      " False False False False False False  True False False False False False\n",
      " False False  True False False False  True False  True False False False\n",
      "  True False False False False False False False False False False False\n",
      " False False False False  True False False False  True False False]\n"
     ]
    }
   ],
   "source": [
    "judgement = selector.get_support(False)\n",
    "print(judgement)"
   ]
  },
  {
   "cell_type": "code",
   "execution_count": 12,
   "id": "7ba67a83",
   "metadata": {},
   "outputs": [
    {
     "name": "stdout",
     "output_type": "stream",
     "text": [
      "[ 8  9 10 12 13 14 21 22 30 38 42 44 48 64 68]\n"
     ]
    }
   ],
   "source": [
    "selected_neuron = np.where(judgement==True)[0]\n",
    "print(selected_neuron)"
   ]
  },
  {
   "cell_type": "code",
   "execution_count": 13,
   "id": "e21e60e2",
   "metadata": {},
   "outputs": [
    {
     "name": "stderr",
     "output_type": "stream",
     "text": [
      "C:\\Users\\user\\anaconda3\\envs\\success\\lib\\site-packages\\sklearn\\feature_selection\\_univariate_selection.py:112: UserWarning: Features [40] are constant.\n",
      "  warnings.warn(\"Features %s are constant.\" % constant_features_idx, UserWarning)\n",
      "C:\\Users\\user\\anaconda3\\envs\\success\\lib\\site-packages\\sklearn\\feature_selection\\_univariate_selection.py:113: RuntimeWarning: invalid value encountered in true_divide\n",
      "  f = msb / msw\n"
     ]
    }
   ],
   "source": [
    "X_new = selector.fit_transform(input_spike, out_direction)"
   ]
  },
  {
   "cell_type": "code",
   "execution_count": 14,
   "id": "ad9b0796",
   "metadata": {},
   "outputs": [
    {
     "name": "stdout",
     "output_type": "stream",
     "text": [
      "(294, 15)\n"
     ]
    }
   ],
   "source": [
    "print(X_new.shape)"
   ]
  },
  {
   "cell_type": "code",
   "execution_count": 15,
   "id": "ab40df4b",
   "metadata": {},
   "outputs": [],
   "source": [
    "input_spike = X_new"
   ]
  },
  {
   "cell_type": "markdown",
   "id": "f04d3b93",
   "metadata": {},
   "source": [
    "mutual_info_classif, 15 neurons, mean accuracy 83.29%"
   ]
  },
  {
   "cell_type": "code",
   "execution_count": 165,
   "id": "1e4b7269",
   "metadata": {},
   "outputs": [],
   "source": [
    "selector2 = SelectKBest(mutual_info_classif, k=15)"
   ]
  },
  {
   "cell_type": "code",
   "execution_count": 166,
   "id": "370f14ac",
   "metadata": {},
   "outputs": [],
   "source": [
    "X_new2 = selector2.fit(input_spike, out_direction)"
   ]
  },
  {
   "cell_type": "code",
   "execution_count": 125,
   "id": "8d10cb77",
   "metadata": {},
   "outputs": [
    {
     "name": "stdout",
     "output_type": "stream",
     "text": [
      "[False False False False False  True False False  True  True  True False\n",
      "  True  True  True False False False False False False False  True False\n",
      " False False False False False False  True False False False False False\n",
      " False False  True False False False  True False  True False False False\n",
      "  True False False False False False False False False False False False\n",
      " False False False False  True False False False  True False False]\n"
     ]
    }
   ],
   "source": [
    "judgement2 = selector2.get_support(False)\n",
    "print(judgement2)"
   ]
  },
  {
   "cell_type": "code",
   "execution_count": 126,
   "id": "dbaa05c4",
   "metadata": {},
   "outputs": [
    {
     "name": "stdout",
     "output_type": "stream",
     "text": [
      "[ 5  8  9 10 12 13 14 22 30 38 42 44 48 64 68]\n"
     ]
    }
   ],
   "source": [
    "selected_neuron2 = np.where(judgement2==True)[0]\n",
    "print(selected_neuron2)"
   ]
  },
  {
   "cell_type": "code",
   "execution_count": 167,
   "id": "27317504",
   "metadata": {},
   "outputs": [],
   "source": [
    "X_new2 = selector2.fit_transform(input_spike, out_direction)"
   ]
  },
  {
   "cell_type": "code",
   "execution_count": 168,
   "id": "e97bb172",
   "metadata": {},
   "outputs": [],
   "source": [
    "input_spike = X_new2"
   ]
  },
  {
   "cell_type": "markdown",
   "id": "5ab41ac6",
   "metadata": {},
   "source": [
    "chi2, 15 neurons, mean accuracy"
   ]
  },
  {
   "cell_type": "code",
   "execution_count": 22,
   "id": "3da73302",
   "metadata": {},
   "outputs": [],
   "source": [
    "selector3 = SelectKBest(chi2, k=15)"
   ]
  },
  {
   "cell_type": "code",
   "execution_count": 27,
   "id": "9a7fe1dc",
   "metadata": {},
   "outputs": [],
   "source": [
    "X_new3 = selector3.fit(input_spike, out_direction)"
   ]
  },
  {
   "cell_type": "code",
   "execution_count": 28,
   "id": "dda5b6de",
   "metadata": {},
   "outputs": [
    {
     "name": "stdout",
     "output_type": "stream",
     "text": [
      "[False False False False False False False False  True False  True False\n",
      "  True  True  True False False False False False False  True  True False\n",
      " False False False False False False  True False False False False False\n",
      " False False  True False False False  True False  True False False False\n",
      "  True False  True False False False False False False False False False\n",
      " False False False False  True False False False  True False False]\n"
     ]
    }
   ],
   "source": [
    "judgement3 = selector3.get_support(False)\n",
    "print(judgement3)"
   ]
  },
  {
   "cell_type": "code",
   "execution_count": 29,
   "id": "bd5b5e09",
   "metadata": {},
   "outputs": [
    {
     "name": "stdout",
     "output_type": "stream",
     "text": [
      "[ 8 10 12 13 14 21 22 30 38 42 44 48 50 64 68]\n"
     ]
    }
   ],
   "source": [
    "selected_neuron3 = np.where(judgement3==True)[0]\n",
    "print(selected_neuron3)"
   ]
  },
  {
   "cell_type": "code",
   "execution_count": 30,
   "id": "5ad0091d",
   "metadata": {},
   "outputs": [],
   "source": [
    "X_new3 = selector3.fit_transform(input_spike, out_direction)"
   ]
  },
  {
   "cell_type": "code",
   "execution_count": 31,
   "id": "50dda70d",
   "metadata": {},
   "outputs": [],
   "source": [
    "input_spike = X_new3"
   ]
  },
  {
   "cell_type": "markdown",
   "id": "1772a927",
   "metadata": {},
   "source": [
    "### Recursive feature selection"
   ]
  },
  {
   "cell_type": "markdown",
   "id": "5a395c35",
   "metadata": {},
   "source": [
    "recursively delete features to find 39 features "
   ]
  },
  {
   "cell_type": "code",
   "execution_count": 52,
   "id": "327667b0",
   "metadata": {},
   "outputs": [],
   "source": [
    "estimator = svm.SVC(kernel='linear')"
   ]
  },
  {
   "cell_type": "code",
   "execution_count": 53,
   "id": "c0603975",
   "metadata": {},
   "outputs": [],
   "source": [
    "selector4 = RFECV(estimator, step=1, cv=5)"
   ]
  },
  {
   "cell_type": "code",
   "execution_count": 54,
   "id": "b0699af9",
   "metadata": {},
   "outputs": [],
   "source": [
    "selector4 = selector4.fit(input_spike, out_direction)"
   ]
  },
  {
   "cell_type": "code",
   "execution_count": 56,
   "id": "f0f90f1a",
   "metadata": {},
   "outputs": [
    {
     "data": {
      "text/plain": [
       "array([ True, False,  True,  True, False, False,  True, False,  True,\n",
       "        True,  True,  True,  True,  True,  True, False,  True,  True,\n",
       "        True, False,  True,  True,  True, False, False, False,  True,\n",
       "        True, False, False,  True, False,  True,  True, False,  True,\n",
       "       False, False,  True,  True, False, False,  True,  True,  True,\n",
       "       False, False,  True, False,  True, False, False, False, False,\n",
       "       False, False, False, False,  True,  True,  True,  True, False,\n",
       "        True,  True, False, False,  True,  True, False,  True])"
      ]
     },
     "execution_count": 56,
     "metadata": {},
     "output_type": "execute_result"
    }
   ],
   "source": [
    "selector4.support_"
   ]
  },
  {
   "cell_type": "code",
   "execution_count": 58,
   "id": "7a1f51be",
   "metadata": {},
   "outputs": [
    {
     "data": {
      "text/plain": [
       "array([ 1,  3,  1,  1, 10,  6,  1,  2,  1,  1,  1,  1,  1,  1,  1, 29,  1,\n",
       "        1,  1, 21,  1,  1,  1,  9, 19, 23,  1,  1, 13, 14,  1, 20,  1,  1,\n",
       "       17,  1, 27, 31,  1,  1, 33, 12,  1,  1,  1, 22, 24,  1, 11,  1, 15,\n",
       "       25, 32, 18,  4,  7, 26, 16,  1,  1,  1,  1,  8,  1,  1, 28, 30,  1,\n",
       "        1,  5,  1])"
      ]
     },
     "execution_count": 58,
     "metadata": {},
     "output_type": "execute_result"
    }
   ],
   "source": [
    "selector4.ranking_"
   ]
  },
  {
   "cell_type": "code",
   "execution_count": 59,
   "id": "8edde7f5",
   "metadata": {},
   "outputs": [],
   "source": [
    "judgement4 = selector4.support_"
   ]
  },
  {
   "cell_type": "code",
   "execution_count": 60,
   "id": "534b2a65",
   "metadata": {},
   "outputs": [
    {
     "name": "stdout",
     "output_type": "stream",
     "text": [
      "[ 0  2  3  6  8  9 10 11 12 13 14 16 17 18 20 21 22 26 27 30 32 33 35 38\n",
      " 39 42 43 44 47 49 58 59 60 61 63 64 67 68 70]\n"
     ]
    }
   ],
   "source": [
    "selected_neuron4 = np.where(judgement4==True)[0]\n",
    "print(selected_neuron4)"
   ]
  },
  {
   "cell_type": "code",
   "execution_count": 61,
   "id": "369fd577",
   "metadata": {},
   "outputs": [
    {
     "name": "stdout",
     "output_type": "stream",
     "text": [
      "(294, 39)\n"
     ]
    }
   ],
   "source": [
    "X_new4 = input_spike[:,selected_neuron4]\n",
    "print(X_new4.shape)"
   ]
  },
  {
   "cell_type": "code",
   "execution_count": 62,
   "id": "85b4cb1c",
   "metadata": {},
   "outputs": [],
   "source": [
    "input_spike = X_new4"
   ]
  },
  {
   "cell_type": "markdown",
   "id": "f9b3a88d",
   "metadata": {},
   "source": [
    "### Select from Model"
   ]
  },
  {
   "cell_type": "markdown",
   "id": "910d20eb",
   "metadata": {},
   "source": [
    "linear svc"
   ]
  },
  {
   "cell_type": "code",
   "execution_count": 87,
   "id": "fa9b4799",
   "metadata": {},
   "outputs": [],
   "source": [
    "estimator5 = svm.SVC(kernel='linear')"
   ]
  },
  {
   "cell_type": "code",
   "execution_count": 88,
   "id": "abe30981",
   "metadata": {},
   "outputs": [],
   "source": [
    "selector5 = SelectFromModel(estimator=estimator5)"
   ]
  },
  {
   "cell_type": "code",
   "execution_count": 89,
   "id": "c13b7643",
   "metadata": {},
   "outputs": [
    {
     "data": {
      "text/plain": [
       "SelectFromModel(estimator=SVC(kernel='linear'))"
      ]
     },
     "execution_count": 89,
     "metadata": {},
     "output_type": "execute_result"
    }
   ],
   "source": [
    "selector5.fit(input_spike,out_direction)"
   ]
  },
  {
   "cell_type": "code",
   "execution_count": 91,
   "id": "14bffe46",
   "metadata": {},
   "outputs": [],
   "source": [
    "judgement5 = selector5.get_support()"
   ]
  },
  {
   "cell_type": "code",
   "execution_count": 92,
   "id": "f681abdc",
   "metadata": {},
   "outputs": [
    {
     "name": "stdout",
     "output_type": "stream",
     "text": [
      "[ 3  6  7  8  9 10 11 13 18 20 21 22 26 30 32 33 35 38 39 42 43 44 48 49\n",
      " 54 58 59 64 68 70]\n"
     ]
    }
   ],
   "source": [
    "selected_neuron5 = np.where(judgement5==True)[0]\n",
    "print(selected_neuron5)"
   ]
  },
  {
   "cell_type": "code",
   "execution_count": 93,
   "id": "094c1736",
   "metadata": {},
   "outputs": [
    {
     "name": "stdout",
     "output_type": "stream",
     "text": [
      "(294, 30)\n"
     ]
    }
   ],
   "source": [
    "X_new5 = input_spike[:,selected_neuron5]\n",
    "print(X_new5.shape)"
   ]
  },
  {
   "cell_type": "markdown",
   "id": "b4187fa8",
   "metadata": {},
   "source": [
    "linear svc with l1 penalty"
   ]
  },
  {
   "cell_type": "code",
   "execution_count": 110,
   "id": "90577ae0",
   "metadata": {},
   "outputs": [],
   "source": [
    "estimator6 = LinearSVC(C=0.01, penalty=\"l1\", dual=False)"
   ]
  },
  {
   "cell_type": "code",
   "execution_count": 111,
   "id": "a3de4618",
   "metadata": {},
   "outputs": [],
   "source": [
    "selector6 = SelectFromModel(estimator=estimator6)"
   ]
  },
  {
   "cell_type": "code",
   "execution_count": 112,
   "id": "3adf6eaf",
   "metadata": {},
   "outputs": [
    {
     "data": {
      "text/plain": [
       "SelectFromModel(estimator=LinearSVC(C=0.01, dual=False, penalty='l1'))"
      ]
     },
     "execution_count": 112,
     "metadata": {},
     "output_type": "execute_result"
    }
   ],
   "source": [
    "selector6.fit(input_spike,out_direction)"
   ]
  },
  {
   "cell_type": "code",
   "execution_count": 113,
   "id": "91f7528a",
   "metadata": {},
   "outputs": [],
   "source": [
    "judgement6 = selector6.get_support()"
   ]
  },
  {
   "cell_type": "code",
   "execution_count": 114,
   "id": "26ef7dcc",
   "metadata": {},
   "outputs": [
    {
     "name": "stdout",
     "output_type": "stream",
     "text": [
      "[ 8  9 10 11 12 13 14 20 21 22 26 29 30 32 33 34 35 38 39 42 44 63 64 67\n",
      " 68]\n"
     ]
    }
   ],
   "source": [
    "selected_neuron6 = np.where(judgement6==True)[0]\n",
    "print(selected_neuron6)"
   ]
  },
  {
   "cell_type": "code",
   "execution_count": 115,
   "id": "55302c35",
   "metadata": {},
   "outputs": [
    {
     "name": "stdout",
     "output_type": "stream",
     "text": [
      "(294, 25)\n"
     ]
    }
   ],
   "source": [
    "X_new6 = input_spike[:,selected_neuron6]\n",
    "print(X_new6.shape)"
   ]
  },
  {
   "cell_type": "code",
   "execution_count": 116,
   "id": "2c45104f",
   "metadata": {},
   "outputs": [],
   "source": [
    "input_spike = X_new6"
   ]
  },
  {
   "cell_type": "markdown",
   "id": "104eaefa",
   "metadata": {},
   "source": [
    "### Select 15 neurons using SFM"
   ]
  },
  {
   "cell_type": "code",
   "execution_count": 135,
   "id": "9f71ca36",
   "metadata": {},
   "outputs": [],
   "source": [
    "estimator7 = svm.SVC(kernel='linear')"
   ]
  },
  {
   "cell_type": "code",
   "execution_count": 137,
   "id": "7fc5cea8",
   "metadata": {},
   "outputs": [],
   "source": [
    "selector7 = SelectFromModel(estimator=estimator7,max_features=15)"
   ]
  },
  {
   "cell_type": "code",
   "execution_count": 142,
   "id": "a7eee4f4",
   "metadata": {},
   "outputs": [
    {
     "data": {
      "text/plain": [
       "SelectFromModel(estimator=SVC(kernel='linear'), max_features=15)"
      ]
     },
     "execution_count": 142,
     "metadata": {},
     "output_type": "execute_result"
    }
   ],
   "source": [
    "selector7.fit(input_spike,out_direction)"
   ]
  },
  {
   "cell_type": "code",
   "execution_count": 143,
   "id": "0030dffa",
   "metadata": {},
   "outputs": [],
   "source": [
    "judgement7 = selector7.get_support()"
   ]
  },
  {
   "cell_type": "code",
   "execution_count": 144,
   "id": "b7592c62",
   "metadata": {},
   "outputs": [
    {
     "name": "stdout",
     "output_type": "stream",
     "text": [
      "[ 8  9 10 11 21 22 26 30 32 33 38 42 44 64 68]\n"
     ]
    }
   ],
   "source": [
    "selected_neuron7 = np.where(judgement7==True)[0]\n",
    "print(selected_neuron7)"
   ]
  },
  {
   "cell_type": "code",
   "execution_count": 145,
   "id": "221a2edc",
   "metadata": {},
   "outputs": [
    {
     "name": "stdout",
     "output_type": "stream",
     "text": [
      "(294, 15)\n"
     ]
    }
   ],
   "source": [
    "X_new7 = input_spike[:,selected_neuron7]\n",
    "print(X_new7.shape)"
   ]
  },
  {
   "cell_type": "markdown",
   "id": "46aa20c4",
   "metadata": {},
   "source": [
    "### 10-fold cross validation"
   ]
  },
  {
   "cell_type": "code",
   "execution_count": 146,
   "id": "de77865c",
   "metadata": {},
   "outputs": [],
   "source": [
    "k = 10\n",
    "skf = StratifiedKFold(n_splits=k, random_state=0, shuffle=True)"
   ]
  },
  {
   "cell_type": "code",
   "execution_count": 147,
   "id": "34d003b5",
   "metadata": {},
   "outputs": [
    {
     "name": "stdout",
     "output_type": "stream",
     "text": [
      "The accuracy for split 1 is  83.33%\n",
      "The accuracy for split 2 is  90.00%\n",
      "The accuracy for split 3 is  90.00%\n",
      "The accuracy for split 4 is  93.33%\n",
      "The accuracy for split 5 is  82.76%\n",
      "The accuracy for split 6 is  89.66%\n",
      "The accuracy for split 7 is  75.86%\n",
      "The accuracy for split 8 is  86.21%\n",
      "The accuracy for split 9 is  86.21%\n",
      "The accuracy for split 10 is  82.76%\n"
     ]
    }
   ],
   "source": [
    "valid_svm = []\n",
    "correct_direction = np.zeros(6)\n",
    "confusion_matrix = np.zeros((6,6))\n",
    "iteration = 0\n",
    "\n",
    "for train_index , valid_index in skf.split(input_spike,out_direction):\n",
    "    \n",
    "    # Get the training set and the validation set\n",
    "    X_train  = input_spike[train_index,:]\n",
    "    X_valid = input_spike[valid_index,:]\n",
    "    Y_train = out_direction[train_index]\n",
    "    Y_valid = out_direction[valid_index]\n",
    "    \n",
    "    # Get the SVM model\n",
    "    clf = svm.NuSVC(nu = 0.8)\n",
    "    \n",
    "    # Train the SVM model\n",
    "    clf.fit(X_train,Y_train)\n",
    "    \n",
    "    # Test the accuracy on the validation set\n",
    "    prediction = clf.predict(X_valid)\n",
    "    accuracy = np.sum(prediction == Y_valid) / len(Y_valid)\n",
    "    print(f'The accuracy for split {iteration+1} is {accuracy * 100 :> 0.2f}%')\n",
    "    valid_svm.append(accuracy)\n",
    "    \n",
    "    # Get the confusion matrix\n",
    "    # Compute the accuracy for each direction\n",
    "    correct_direction_split = np.zeros(6)\n",
    "    size = np.zeros(6)\n",
    "    \n",
    "    for i in range(6):\n",
    "        \n",
    "        outi = np.where(Y_valid == i)[0]\n",
    "        size[i] = len(outi)\n",
    "        predi = prediction[outi]\n",
    "        \n",
    "        for j in range(6):\n",
    "            confusion_matrix[i][j] += len(np.where(predi == j)[0])\n",
    "            \n",
    "        correct_direction_split[i] = len(np.where(predi == i)[0]) / size[i]\n",
    "        correct_direction[i] +=  correct_direction_split[i]\n",
    "        \n",
    "    \n",
    "    iteration +=  1\n",
    "        \n",
    "correct_direction /= k"
   ]
  },
  {
   "cell_type": "code",
   "execution_count": 148,
   "id": "e0f7c82f",
   "metadata": {},
   "outputs": [
    {
     "name": "stdout",
     "output_type": "stream",
     "text": [
      "[0.8333333333333334, 0.9, 0.9, 0.9333333333333333, 0.8275862068965517, 0.896551724137931, 0.7586206896551724, 0.8620689655172413, 0.8620689655172413, 0.8275862068965517]\n",
      "Cross Validation Accuracy: 86.01 %\n"
     ]
    }
   ],
   "source": [
    "print(valid_svm)\n",
    "valid_acc_mean = np.mean(valid_svm)\n",
    "print(f\"Cross Validation Accuracy: {(100*valid_acc_mean):>0.2f} %\")"
   ]
  },
  {
   "cell_type": "code",
   "execution_count": 28,
   "id": "dcc24a95",
   "metadata": {},
   "outputs": [
    {
     "name": "stdout",
     "output_type": "stream",
     "text": [
      "The accuracy for split 1 is  80.00%\n"
     ]
    },
    {
     "ename": "IndexError",
     "evalue": "index 15 is out of bounds for axis 1 with size 15",
     "output_type": "error",
     "traceback": [
      "\u001b[1;31m---------------------------------------------------------------------------\u001b[0m",
      "\u001b[1;31mIndexError\u001b[0m                                Traceback (most recent call last)",
      "Input \u001b[1;32mIn [28]\u001b[0m, in \u001b[0;36m<cell line: 7>\u001b[1;34m()\u001b[0m\n\u001b[0;32m     47\u001b[0m \u001b[38;5;28;01mfor\u001b[39;00m u \u001b[38;5;129;01min\u001b[39;00m \u001b[38;5;28mrange\u001b[39m(\u001b[38;5;241m71\u001b[39m):\n\u001b[0;32m     49\u001b[0m     X_u \u001b[38;5;241m=\u001b[39m copy\u001b[38;5;241m.\u001b[39mdeepcopy(X_valid)\n\u001b[1;32m---> 51\u001b[0m     X_u[:,u] \u001b[38;5;241m=\u001b[39m \u001b[38;5;241m0\u001b[39m\n\u001b[0;32m     52\u001b[0m     predu \u001b[38;5;241m=\u001b[39m clf\u001b[38;5;241m.\u001b[39mpredict(X_u)\n\u001b[0;32m     54\u001b[0m     \u001b[38;5;28;01mfor\u001b[39;00m d \u001b[38;5;129;01min\u001b[39;00m \u001b[38;5;28mrange\u001b[39m(\u001b[38;5;241m6\u001b[39m):\n",
      "\u001b[1;31mIndexError\u001b[0m: index 15 is out of bounds for axis 1 with size 15"
     ]
    }
   ],
   "source": [
    "total_accuracy = 0\n",
    "correct_direction = np.zeros(6)\n",
    "confusion_matrix = np.zeros((6,6))\n",
    "decreased_accuracy = np.zeros((71,6,k))\n",
    "iteration = 0\n",
    "\n",
    "for train_index , valid_index in skf.split(input_spike,out_direction):\n",
    "    \n",
    "    # Get the training set and the validation set\n",
    "    X_train  = input_spike[train_index,:]\n",
    "    X_valid = input_spike[valid_index,:]\n",
    "    Y_train = out_direction[train_index]\n",
    "    Y_valid = out_direction[valid_index]\n",
    "    \n",
    "    # Get the SVM model\n",
    "    clf = svm.NuSVC(nu = 0.8)\n",
    "    \n",
    "    # Train the SVM model\n",
    "    clf.fit(X_train,Y_train)\n",
    "    \n",
    "    # Test the accuracy on the validation set\n",
    "    prediction = clf.predict(X_valid)\n",
    "    accuracy = np.sum(prediction == Y_valid) / len(Y_valid)\n",
    "    print(f'The accuracy for split {iteration+1} is {accuracy * 100 :> 0.2f}%')\n",
    "    total_accuracy += accuracy\n",
    "    \n",
    "    # Get the confusion matrix\n",
    "    # Compute the accuracy for each direction\n",
    "    correct_direction_split = np.zeros(6)\n",
    "    size = np.zeros(6)\n",
    "    \n",
    "    for i in range(6):\n",
    "        \n",
    "        outi = np.where(Y_valid == i)[0]\n",
    "        size[i] = len(outi)\n",
    "        predi = prediction[outi]\n",
    "        \n",
    "        for j in range(6):\n",
    "            confusion_matrix[i][j] += len(np.where(predi == j)[0])\n",
    "            \n",
    "        correct_direction_split[i] = len(np.where(predi == i)[0]) / size[i]\n",
    "        correct_direction[i] +=  correct_direction_split[i]\n",
    "        \n",
    "    # Set certain unit to 0\n",
    "    # Test the model again\n",
    "    # Get the decreased accuracy\n",
    "    for u in range(71):\n",
    "        \n",
    "        X_u = copy.deepcopy(X_valid)\n",
    "        \n",
    "        X_u[:,u] = 0\n",
    "        predu = clf.predict(X_u)\n",
    "        \n",
    "        for d in range(6):\n",
    "            \n",
    "            outd = np.where(Y_valid == d)[0]\n",
    "            predud = predu[outd]\n",
    "            correct_direction_unit = len(np.where(predud ==d)[0]) / size[d]\n",
    "            decreased_accuracy[u][d][iteration] = (correct_direction_split[d] - correct_direction_unit)*100\n",
    "    \n",
    "    iteration +=  1\n",
    "        \n",
    "correct_direction /= k\n",
    "print(f'The validation accuracy is {total_accuracy * 10 :> 0.2f}%')"
   ]
  },
  {
   "cell_type": "code",
   "execution_count": 29,
   "id": "c850c7dc",
   "metadata": {},
   "outputs": [
    {
     "data": {
      "image/png": "[encoded data removed]",
      "text/plain": [
       "<Figure size 720x720 with 2 Axes>"
      ]
     },
     "metadata": {
      "needs_background": "light"
     },
     "output_type": "display_data"
    }
   ],
   "source": [
    "fig, ax = plt.subplots(figsize = (10,10))\n",
    "cmap = ax.imshow(confusion_matrix)\n",
    "ax.set_title(f'Confusion matrix for {mode} during cross validation',fontsize = 20)\n",
    "ax.set_xlabel('Predicted Direction',fontsize = 20)\n",
    "ax.set_ylabel('Original Direction',fontsize = 20)\n",
    "ax.tick_params(axis='y',labelsize = 20)\n",
    "ax.tick_params(axis='x',labelsize = 20)\n",
    "\n",
    "cbar = fig.colorbar(\n",
    "    cmap, orientation='vertical',\n",
    "    ticks=np.linspace(0, 50, 11),\n",
    ")"
   ]
  },
  {
   "cell_type": "markdown",
   "id": "80a9f4c9",
   "metadata": {},
   "source": [
    "### Comparison between methods"
   ]
  },
  {
   "cell_type": "code",
   "execution_count": 8,
   "id": "6a9e71fb",
   "metadata": {},
   "outputs": [],
   "source": [
    "labels = 'ours','f_classif', 'mutual_info','chi2','SFM'"
   ]
  },
  {
   "cell_type": "code",
   "execution_count": 9,
   "id": "db6eb1fa",
   "metadata": {},
   "outputs": [],
   "source": [
    "ours = [0.7666666666666667, 0.9, 0.9333333333333333, 0.9333333333333333, 0.8620689655172413, 0.9655172413793104, 0.6551724137931034, 0.7931034482758621, 0.8620689655172413, 0.896551724137931]"
   ]
  },
  {
   "cell_type": "code",
   "execution_count": 10,
   "id": "68a1ea9c",
   "metadata": {},
   "outputs": [],
   "source": [
    "f_classif = [0.8, 0.8666666666666667, 0.8666666666666667, 0.9, 0.7241379310344828, 0.8620689655172413, 0.7241379310344828, 0.7586206896551724, 0.7241379310344828, 0.9655172413793104]"
   ]
  },
  {
   "cell_type": "code",
   "execution_count": 11,
   "id": "0d7c059c",
   "metadata": {},
   "outputs": [],
   "source": [
    "mutual_info = [0.8666666666666667, 0.9, 0.8666666666666667, 0.8666666666666667, 0.7931034482758621, 0.896551724137931, 0.7586206896551724, 0.7931034482758621, 0.7931034482758621, 0.896551724137931]"
   ]
  },
  {
   "cell_type": "code",
   "execution_count": 12,
   "id": "90018922",
   "metadata": {},
   "outputs": [],
   "source": [
    "chi2 = [0.8, 0.8333333333333334, 0.9, 0.9, 0.7586206896551724, 0.8620689655172413, 0.7241379310344828, 0.7586206896551724, 0.7241379310344828, 0.9310344827586207]"
   ]
  },
  {
   "cell_type": "code",
   "execution_count": 13,
   "id": "44fbc81f",
   "metadata": {},
   "outputs": [],
   "source": [
    "SFM15 = [0.8333333333333334, 0.9, 0.9, 0.9333333333333333, 0.8275862068965517, 0.896551724137931, 0.7586206896551724, 0.8620689655172413, 0.8620689655172413, 0.8275862068965517]"
   ]
  },
  {
   "cell_type": "code",
   "execution_count": 16,
   "id": "f8c316dd",
   "metadata": {},
   "outputs": [
    {
     "data": {
      "image/png": "[encoded data removed]",
      "text/plain": [
       "<Figure size 1080x432 with 1 Axes>"
      ]
     },
     "metadata": {
      "needs_background": "light"
     },
     "output_type": "display_data"
    }
   ],
   "source": [
    "fig, ax = plt.subplots(figsize = (15,6))\n",
    "\n",
    "ax.boxplot([ours,f_classif,mutual_info,chi2,SFM15],labels = labels,showmeans = True)\n",
    "\n",
    "ax.set_title(f'Comparison between feature selection methods (select 15 best)',fontsize = 20)\n",
    "ax.set_xlabel('Methods',fontsize = 20)\n",
    "ax.set_ylabel('Accuracy',fontsize=20)\n",
    "ax.tick_params(axis='y',labelsize = 10)\n",
    "ax.tick_params(axis='x',labelsize = 15)"
   ]
  },
  {
   "cell_type": "code",
   "execution_count": 128,
   "id": "ed531737",
   "metadata": {},
   "outputs": [],
   "source": [
    "labels = '71 neurons', '39 neurons (RFECV)','30 neurons (SFM)','25 neurons (SFM_l1)','15 neurons (ours)'"
   ]
  },
  {
   "cell_type": "code",
   "execution_count": 129,
   "id": "8d76564c",
   "metadata": {},
   "outputs": [],
   "source": [
    "RFECV = [0.8666666666666667, 0.9, 0.9333333333333333, 0.9666666666666667, 0.896551724137931, 0.896551724137931, 0.7241379310344828, 0.8275862068965517, 0.7586206896551724, 0.896551724137931]"
   ]
  },
  {
   "cell_type": "code",
   "execution_count": 130,
   "id": "305e2ba2",
   "metadata": {},
   "outputs": [],
   "source": [
    "SFM = [0.8333333333333334, 0.9, 0.9, 0.9333333333333333, 0.8275862068965517, 0.896551724137931, 0.7586206896551724, 0.8620689655172413, 0.8620689655172413, 0.8275862068965517]"
   ]
  },
  {
   "cell_type": "code",
   "execution_count": 131,
   "id": "ca6d1c07",
   "metadata": {},
   "outputs": [],
   "source": [
    "SFM_l1 = [0.8333333333333334, 0.9, 0.9, 0.9, 0.8275862068965517, 0.896551724137931, 0.7241379310344828, 0.7931034482758621, 0.8620689655172413, 0.8620689655172413]"
   ]
  },
  {
   "cell_type": "code",
   "execution_count": 132,
   "id": "0bbbfb77",
   "metadata": {},
   "outputs": [],
   "source": [
    "svm_origin = [0.8333333333333334, 0.9, 0.9, 0.9333333333333333, 0.8275862068965517, 0.896551724137931, 0.7586206896551724, 0.8620689655172413, 0.8620689655172413, 0.8275862068965517]"
   ]
  },
  {
   "cell_type": "code",
   "execution_count": 134,
   "id": "b6b46f79",
   "metadata": {},
   "outputs": [
    {
     "data": {
      "image/png": "[encoded data removed]",
      "text/plain": [
       "<Figure size 1080x432 with 1 Axes>"
      ]
     },
     "metadata": {
      "needs_background": "light"
     },
     "output_type": "display_data"
    }
   ],
   "source": [
    "fig, ax = plt.subplots(figsize = (15,6))\n",
    "\n",
    "ax.boxplot([svm_origin,RFECV,SFM,SFM_l1,ours],labels = labels,showmeans = True)\n",
    "\n",
    "ax.set_title(f'Comparison between feature selection methods',fontsize = 20)\n",
    "ax.set_xlabel('Methods',fontsize = 20)\n",
    "ax.set_ylabel('Accuracy',fontsize=20)\n",
    "ax.tick_params(axis='y',labelsize = 10)\n",
    "ax.tick_params(axis='x',labelsize = 10)"
   ]
  },
  {
   "cell_type": "code",
   "execution_count": 16,
   "id": "225834c1",
   "metadata": {},
   "outputs": [
    {
     "name": "stdout",
     "output_type": "stream",
     "text": [
      "(71, 6, 10)\n"
     ]
    }
   ],
   "source": [
    "decreased_accuracy = np.array(decreased_accuracy)\n",
    "print(decreased_accuracy.shape)"
   ]
  },
  {
   "cell_type": "code",
   "execution_count": 17,
   "id": "5e3a2a5c",
   "metadata": {},
   "outputs": [],
   "source": [
    "decreased_accuracy_mean = np.mean(decreased_accuracy,axis=2)\n",
    "decreased_accuracy_std = np.std(decreased_accuracy,axis=2)\n",
    "decreased_accuracy_max = np.max(decreased_accuracy,axis=2)\n",
    "decreased_accuracy_min = np.min(decreased_accuracy,axis=2)"
   ]
  },
  {
   "cell_type": "code",
   "execution_count": 18,
   "id": "dabc5f8e",
   "metadata": {},
   "outputs": [
    {
     "data": {
      "image/png": "[encoded data removed]",
      "text/plain": [
       "<Figure size 720x360 with 1 Axes>"
      ]
     },
     "metadata": {
      "needs_background": "light"
     },
     "output_type": "display_data"
    }
   ],
   "source": [
    "unit_range = np.arange(71)\n",
    "fig, ax = plt.subplots(figsize = (10,5))\n",
    "ax.errorbar(unit_range,decreased_accuracy_mean[:,0],decreased_accuracy_std[:,0],linestyle = 'None',fmt='ok',lw = 3)\n",
    "ax.errorbar(unit_range,decreased_accuracy_mean[:,0],[decreased_accuracy_mean[:,0] - decreased_accuracy_min[:,0],  \n",
    "                                                    decreased_accuracy_max[:,0] - decreased_accuracy_mean[:,0]],\n",
    "            linestyle = 'None',fmt='.k',ecolor = 'gray',lw=1)\n",
    "ax.set_title(f'Decreased accuracy for direction 0 when certain unit is set to 0 ({mode})',fontsize = 20)\n",
    "ax.set_xlabel('Unit',fontsize = 20)\n",
    "ax.set_ylabel('Decreased accuracy',fontsize=20)\n",
    "ax.tick_params(axis='y',labelsize = 20)\n",
    "ax.tick_params(axis='x',labelsize = 20)"
   ]
  },
  {
   "cell_type": "markdown",
   "id": "fb3a6b8a",
   "metadata": {},
   "source": [
    "Unit 12, 21, 22, 33, 64 are important for direction 0. "
   ]
  },
  {
   "cell_type": "markdown",
   "id": "3d03b790",
   "metadata": {},
   "source": [
    "Unit 11,64,33,21,30 are important for direction 0. "
   ]
  },
  {
   "cell_type": "code",
   "execution_count": 19,
   "id": "e7e73c90",
   "metadata": {},
   "outputs": [
    {
     "data": {
      "image/png": "[encoded data removed]",
      "text/plain": [
       "<Figure size 720x360 with 1 Axes>"
      ]
     },
     "metadata": {
      "needs_background": "light"
     },
     "output_type": "display_data"
    }
   ],
   "source": [
    "unit_range = np.arange(71)\n",
    "fig, ax = plt.subplots(figsize = (10,5))\n",
    "ax.errorbar(unit_range,decreased_accuracy_mean[:,1],decreased_accuracy_std[:,1],linestyle = 'None',fmt='ok',lw = 3)\n",
    "ax.errorbar(unit_range,decreased_accuracy_mean[:,1],[decreased_accuracy_mean[:,1] - decreased_accuracy_min[:,1],  \n",
    "                                                    decreased_accuracy_max[:,1] - decreased_accuracy_mean[:,1]],\n",
    "            linestyle = 'None',fmt='.k',ecolor = 'gray',lw=1)\n",
    "ax.set_title(f'Decreased accuracy for direction 1 when certain unit is set to 0 ({mode})',fontsize = 20)\n",
    "ax.set_xlabel('Unit',fontsize = 20)\n",
    "ax.set_ylabel('Decreased accuracy',fontsize=20)\n",
    "ax.tick_params(axis='y',labelsize = 20)\n",
    "ax.tick_params(axis='x',labelsize = 20)"
   ]
  },
  {
   "cell_type": "markdown",
   "id": "27532e4a",
   "metadata": {},
   "source": [
    "Unit 11, 35, 38 are important for this direction"
   ]
  },
  {
   "cell_type": "markdown",
   "id": "c937250c",
   "metadata": {},
   "source": [
    "Unit 11, 21, 26, 35, 38 are important for direction 1. "
   ]
  },
  {
   "cell_type": "code",
   "execution_count": 218,
   "id": "25a703c5",
   "metadata": {},
   "outputs": [
    {
     "data": {
      "image/png": "[encoded data removed]",
      "text/plain": [
       "<Figure size 720x360 with 1 Axes>"
      ]
     },
     "metadata": {
      "needs_background": "light"
     },
     "output_type": "display_data"
    }
   ],
   "source": [
    "unit_range = np.arange(71)\n",
    "fig, ax = plt.subplots(figsize = (10,5))\n",
    "ax.errorbar(unit_range,decreased_accuracy_mean[:,2],decreased_accuracy_std[:,2],linestyle = 'None',fmt='ok',lw = 3)\n",
    "ax.errorbar(unit_range,decreased_accuracy_mean[:,2],[decreased_accuracy_mean[:,2] - decreased_accuracy_min[:,2],  \n",
    "                                                    decreased_accuracy_max[:,2] - decreased_accuracy_mean[:,2]],\n",
    "            linestyle = 'None',fmt='.k',ecolor = 'gray',lw=1)\n",
    "ax.set_title(f'Decreased accuracy for direction 2 when certain unit is set to 0 ({mode})',fontsize = 20)\n",
    "ax.set_xlabel('Unit',fontsize = 20)\n",
    "ax.set_ylabel('Decreased accuracy',fontsize=20)\n",
    "ax.tick_params(axis='y',labelsize = 20)\n",
    "ax.tick_params(axis='x',labelsize = 20)"
   ]
  },
  {
   "cell_type": "markdown",
   "id": "f3872072",
   "metadata": {},
   "source": [
    "Unit 22,25,68 are important for this direction. "
   ]
  },
  {
   "cell_type": "markdown",
   "id": "2f522e0b",
   "metadata": {},
   "source": [
    "Unit 12,38,39,63,68 are important for direction 2. "
   ]
  },
  {
   "cell_type": "code",
   "execution_count": 219,
   "id": "92fe457d",
   "metadata": {},
   "outputs": [
    {
     "data": {
      "image/png": "[encoded data removed]",
      "text/plain": [
       "<Figure size 720x360 with 1 Axes>"
      ]
     },
     "metadata": {
      "needs_background": "light"
     },
     "output_type": "display_data"
    }
   ],
   "source": [
    "unit_range = np.arange(71)\n",
    "fig, ax = plt.subplots(figsize = (10,5))\n",
    "ax.errorbar(unit_range,decreased_accuracy_mean[:,3],decreased_accuracy_std[:,3],linestyle = 'None',fmt='ok',lw = 3)\n",
    "ax.errorbar(unit_range,decreased_accuracy_mean[:,3],[decreased_accuracy_mean[:,3] - decreased_accuracy_min[:,3],  \n",
    "                                                    decreased_accuracy_max[:,3] - decreased_accuracy_mean[:,3]],\n",
    "            linestyle = 'None',fmt='.k',ecolor = 'gray',lw=1)\n",
    "ax.set_title(f'Decreased accuracy for direction 3 when certain unit is set to 0 ({mode})',fontsize = 20)\n",
    "ax.set_xlabel('Unit',fontsize = 20)\n",
    "ax.set_ylabel('Decreased accuracy',fontsize=20)\n",
    "ax.tick_params(axis='y',labelsize = 20)\n",
    "ax.tick_params(axis='x',labelsize = 20)"
   ]
  },
  {
   "cell_type": "markdown",
   "id": "31f4c438",
   "metadata": {},
   "source": [
    "Unit 38, 40, 68, 12,14 are important for this direction. "
   ]
  },
  {
   "cell_type": "markdown",
   "id": "134e6848",
   "metadata": {},
   "source": [
    "Unit 10, 14, 32, 38, 64, are important for this direction. "
   ]
  },
  {
   "cell_type": "code",
   "execution_count": 220,
   "id": "99f0a676",
   "metadata": {},
   "outputs": [
    {
     "data": {
      "image/png": "[encoded data removed]",
      "text/plain": [
       "<Figure size 720x360 with 1 Axes>"
      ]
     },
     "metadata": {
      "needs_background": "light"
     },
     "output_type": "display_data"
    }
   ],
   "source": [
    "unit_range = np.arange(71)\n",
    "fig, ax = plt.subplots(figsize = (10,5))\n",
    "ax.errorbar(unit_range,decreased_accuracy_mean[:,4],decreased_accuracy_std[:,4],linestyle = 'None',fmt='ok',lw = 3)\n",
    "ax.errorbar(unit_range,decreased_accuracy_mean[:,4],[decreased_accuracy_mean[:,4] - decreased_accuracy_min[:,4],  \n",
    "                                                    decreased_accuracy_max[:,4] - decreased_accuracy_mean[:,4]],\n",
    "            linestyle = 'None',fmt='.k',ecolor = 'gray',lw=1)\n",
    "ax.set_title(f'Decreased accuracy for direction 4 when certain unit is set to 0 ({mode})',fontsize = 20)\n",
    "ax.set_xlabel('Unit',fontsize = 20)\n",
    "ax.set_ylabel('Decreased accuracy',fontsize=20)\n",
    "ax.tick_params(axis='y',labelsize = 20)\n",
    "ax.tick_params(axis='x',labelsize = 20)"
   ]
  },
  {
   "cell_type": "markdown",
   "id": "c0493142",
   "metadata": {},
   "source": [
    "Unit 10, 11, 12, 14, 16, 19, 22, 24, 26, 29, 31, 39, 42, 44, 48, 50, 59, 63,64 are important for this direction. "
   ]
  },
  {
   "cell_type": "markdown",
   "id": "5897e5ac",
   "metadata": {},
   "source": [
    "Unit 26, 44, 64 are important for direction 4. "
   ]
  },
  {
   "cell_type": "code",
   "execution_count": 221,
   "id": "e2c53bb6",
   "metadata": {},
   "outputs": [
    {
     "data": {
      "image/png": "[encoded data removed]",
      "text/plain": [
       "<Figure size 720x360 with 1 Axes>"
      ]
     },
     "metadata": {
      "needs_background": "light"
     },
     "output_type": "display_data"
    }
   ],
   "source": [
    "unit_range = np.arange(71)\n",
    "fig, ax = plt.subplots(figsize = (10,5))\n",
    "ax.errorbar(unit_range,decreased_accuracy_mean[:,5],decreased_accuracy_std[:,5],linestyle = 'None',fmt='ok',lw = 3)\n",
    "ax.errorbar(unit_range,decreased_accuracy_mean[:,5],[decreased_accuracy_mean[:,5] - decreased_accuracy_min[:,5],  \n",
    "                                                    decreased_accuracy_max[:,5] - decreased_accuracy_mean[:,5]],\n",
    "            linestyle = 'None',fmt='.k',ecolor = 'gray',lw=1)\n",
    "ax.set_title(f'Decreased accuracy for direction 5 when certain unit is set to 0 ({mode})',fontsize = 20)\n",
    "ax.set_xlabel('Unit',fontsize = 20)\n",
    "ax.set_ylabel('Decreased accuracy',fontsize=20)\n",
    "ax.tick_params(axis='y',labelsize = 20)\n",
    "ax.tick_params(axis='x',labelsize = 20)"
   ]
  },
  {
   "cell_type": "markdown",
   "id": "148e6579",
   "metadata": {},
   "source": [
    "Unit 22, 26, 63, 64 are important for this direction. "
   ]
  },
  {
   "cell_type": "markdown",
   "id": "be608d69",
   "metadata": {},
   "source": [
    "Unit 22, 26, 63, 64, 67 are important for direction 5. "
   ]
  }
 ],
 "metadata": {
  "kernelspec": {
   "display_name": "Python 3 (ipykernel)",
   "language": "python",
   "name": "python3"
  },
  "language_info": {
   "codemirror_mode": {
    "name": "ipython",
    "version": 3
   },
   "file_extension": ".py",
   "mimetype": "text/x-python",
   "name": "python",
   "nbconvert_exporter": "python",
   "pygments_lexer": "ipython3",
   "version": "3.9.12"
  }
 },
 "nbformat": 4,
 "nbformat_minor": 5
}
