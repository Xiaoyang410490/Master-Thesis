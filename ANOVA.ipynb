{
 "cells": [
  {
   "cell_type": "code",
   "execution_count": 1,
   "id": "99b20dfc",
   "metadata": {},
   "outputs": [],
   "source": [
    "import pickle\n",
    "import numpy as np\n",
    "import matplotlib.pyplot as plt\n",
    "import scienceplots\n",
    "import scipy.stats as stats"
   ]
  },
  {
   "cell_type": "markdown",
   "id": "42ebda4e",
   "metadata": {},
   "source": [
    "This file is to plot the tuning curve for each neuron and do analysis of variance (ANOVA) to each neuron. "
   ]
  },
  {
   "cell_type": "code",
   "execution_count": 8,
   "id": "a9398609",
   "metadata": {},
   "outputs": [],
   "source": [
    "f2= open(\"input_spike_294.pickle\",'rb')\n",
    "input_spike = pickle.load(f2)\n",
    "f2.close()\n",
    "\n",
    "f3= open(\"target_label_294.pickle\",'rb')\n",
    "out_direction = pickle.load(f3)\n",
    "f3.close()"
   ]
  },
  {
   "cell_type": "code",
   "execution_count": 9,
   "id": "ab321a6e",
   "metadata": {},
   "outputs": [],
   "source": [
    "ind = 8"
   ]
  },
  {
   "cell_type": "code",
   "execution_count": 10,
   "id": "570fadc1",
   "metadata": {},
   "outputs": [],
   "source": [
    "input_spike = np.sum(input_spike,axis = 2)"
   ]
  },
  {
   "cell_type": "code",
   "execution_count": 11,
   "id": "faa537f1",
   "metadata": {},
   "outputs": [],
   "source": [
    "input_ind = input_spike[:,ind]"
   ]
  },
  {
   "cell_type": "code",
   "execution_count": 12,
   "id": "2dba0132",
   "metadata": {},
   "outputs": [
    {
     "name": "stdout",
     "output_type": "stream",
     "text": [
      "[4 2 1 2 4 2 4 6 2 1 1 1 0 1 5 6 3 3 3 3 1 0 0 4 0 1 4 1 0 1 0 2 0 8 4 1 0\n",
      " 2 2 1 4 4 0 0 0 0 0 0 1]\n"
     ]
    }
   ],
   "source": [
    "dir0 = np.where(out_direction==0)[0]\n",
    "box_0 = input_ind[dir0]\n",
    "print(box_0)"
   ]
  },
  {
   "cell_type": "code",
   "execution_count": 13,
   "id": "01351b13",
   "metadata": {},
   "outputs": [
    {
     "name": "stdout",
     "output_type": "stream",
     "text": [
      "[3 2 2 1 2 3 1 2 3 4 0 0 2 0 1 4 2 0 2 2 1 0 2 0 2 1 1 1 3 0 3 0 1 1 2 0 0\n",
      " 0 2 3 2 0 0 2 1 2]\n"
     ]
    }
   ],
   "source": [
    "dir1 = np.where(out_direction==1)[0]\n",
    "box_1 = input_ind[dir1]\n",
    "print(box_1)"
   ]
  },
  {
   "cell_type": "code",
   "execution_count": 14,
   "id": "599c9d5a",
   "metadata": {},
   "outputs": [
    {
     "name": "stdout",
     "output_type": "stream",
     "text": [
      "[7 2 2 4 1 4 3 9 6 7 5 6 6 7 1 4 6 6 3 6 4 5 3 2 4 8 4 1 4 1 3 7 6 4 4 8 5\n",
      " 6 3 4 2 3 5 2 7 2 7 4 3 1]\n"
     ]
    }
   ],
   "source": [
    "dir2 = np.where(out_direction==2)[0]\n",
    "box_2 = input_ind[dir2]\n",
    "print(box_2)"
   ]
  },
  {
   "cell_type": "code",
   "execution_count": 15,
   "id": "a221bf13",
   "metadata": {},
   "outputs": [
    {
     "name": "stdout",
     "output_type": "stream",
     "text": [
      "[11  8 10  8  4  6 10  7  6  8  7  9  7  7 11  8  8  6  8  7 11  9 10  8\n",
      "  6  7  7 10  9  7  9 10  5  6  9  2  4  3  9  6  9  7  7  5  8  2  7  3\n",
      "  8  5  8  5  6  9]\n"
     ]
    }
   ],
   "source": [
    "dir3 = np.where(out_direction==3)[0]\n",
    "box_3 = input_ind[dir3]\n",
    "print(box_3)"
   ]
  },
  {
   "cell_type": "code",
   "execution_count": 16,
   "id": "3162bfb0",
   "metadata": {},
   "outputs": [
    {
     "name": "stdout",
     "output_type": "stream",
     "text": [
      "[ 9  4  9  9  8  7  8  8  9 11 12  9  8 11 10  6 12  8 13 10  7 10  9  5\n",
      "  6  8  9  7  6  8  6  6  5  9  8  7  8  8  8  4  4  6  9  6  5  7  6 10\n",
      "  7  8  5  5  8  4]\n"
     ]
    }
   ],
   "source": [
    "dir4 = np.where(out_direction==4)[0]\n",
    "box_4 = input_ind[dir4]\n",
    "print(box_4)"
   ]
  },
  {
   "cell_type": "code",
   "execution_count": 17,
   "id": "0b77b027",
   "metadata": {},
   "outputs": [
    {
     "name": "stdout",
     "output_type": "stream",
     "text": [
      "[ 9 10  9  9  8  7  7 10  5  7  7  6  6  7  9  6  6  3  4  5  9  4  4  5\n",
      "  4  1  6  5  5  6  5  6  3  3  4  5  3  6  5  3  3]\n"
     ]
    }
   ],
   "source": [
    "dir5 = np.where(out_direction==5)[0]\n",
    "box_5 = input_ind[dir5]\n",
    "print(box_5)"
   ]
  },
  {
   "cell_type": "markdown",
   "id": "e3872f8b",
   "metadata": {},
   "source": [
    "Plot the tuning curve for the neuron ind. "
   ]
  },
  {
   "cell_type": "code",
   "execution_count": 18,
   "id": "7af94350",
   "metadata": {},
   "outputs": [],
   "source": [
    "labels = '0','1','2','3','4','5'"
   ]
  },
  {
   "cell_type": "code",
   "execution_count": 19,
   "id": "1840e51f",
   "metadata": {},
   "outputs": [
    {
     "data": {
      "image/png": "[encoded data removed]",
      "text/plain": [
       "<Figure size 720x432 with 1 Axes>"
      ]
     },
     "metadata": {
      "needs_background": "light"
     },
     "output_type": "display_data"
    }
   ],
   "source": [
    "with plt.style.context(['science','no-latex']):\n",
    "    fig, ax = plt.subplots(figsize = (10,6))\n",
    "\n",
    "    box_plot = ax.boxplot([box_0,box_1,box_2,box_3,box_4,box_5],labels = labels,sym ='*',showmeans = True,meanline = True,\n",
    "                         patch_artist = True,boxprops = {'color':'#AAE3E2','facecolor':'#FFCEFE'},\n",
    "                         medianprops = {'color':'#1F8A70'},meanprops = {'color':'#FC7300'})\n",
    "    \n",
    "    \n",
    "    ax.set_title(f' Neuron {ind}',fontsize = 20)\n",
    "    ax.set_xlabel('Directions',fontsize = 20)\n",
    "    ax.set_ylabel('Spikes',fontsize=20)\n",
    "    \n",
    "    ax.plot([], [], '-', linewidth=1, color='#FC7300', label='mean')\n",
    "    ax.plot([], [], '-', linewidth=1, color='#1F8A70', label='median')\n",
    "    ax.legend()\n",
    "    \n",
    "    ax.tick_params(axis='y',labelsize = 20)\n",
    "    ax.tick_params(axis='x',labelsize = 20)\n",
    "    # fig.savefig('Neuron44.eps',format='eps')"
   ]
  },
  {
   "cell_type": "markdown",
   "id": "2b6a4d26",
   "metadata": {},
   "source": [
    "Compute the F_statistic value for neuron ind. The higher the F_statistic value, there exists more difference between the firing rates for different directions"
   ]
  },
  {
   "cell_type": "code",
   "execution_count": 20,
   "id": "dc221ad6",
   "metadata": {},
   "outputs": [],
   "source": [
    "(W,p) = stats.levene(box_0,box_1,box_2,box_3,box_4,box_5)"
   ]
  },
  {
   "cell_type": "code",
   "execution_count": 21,
   "id": "94723016",
   "metadata": {},
   "outputs": [],
   "source": [
    "F_statistic, pVal = stats.f_oneway(box_0,box_1,box_2,box_3,box_4,box_5)"
   ]
  },
  {
   "cell_type": "code",
   "execution_count": 22,
   "id": "a7b12b46",
   "metadata": {},
   "outputs": [
    {
     "name": "stdout",
     "output_type": "stream",
     "text": [
      "87.70630827805769\n"
     ]
    }
   ],
   "source": [
    "print(F_statistic)"
   ]
  },
  {
   "cell_type": "code",
   "execution_count": 23,
   "id": "abe44989",
   "metadata": {},
   "outputs": [
    {
     "name": "stdout",
     "output_type": "stream",
     "text": [
      "8.42320061936047e-56\n"
     ]
    }
   ],
   "source": [
    "print(pVal)"
   ]
  },
  {
   "cell_type": "code",
   "execution_count": 24,
   "id": "66d7eed7",
   "metadata": {},
   "outputs": [
    {
     "name": "stdout",
     "output_type": "stream",
     "text": [
      "0.05429699698047449\n"
     ]
    }
   ],
   "source": [
    "print(p)"
   ]
  },
  {
   "cell_type": "markdown",
   "id": "af5661e2",
   "metadata": {},
   "source": [
    "### Statistics of F_selective values. "
   ]
  },
  {
   "cell_type": "code",
   "execution_count": 25,
   "id": "2a675c69",
   "metadata": {},
   "outputs": [],
   "source": [
    "F_values = []"
   ]
  },
  {
   "cell_type": "code",
   "execution_count": 26,
   "id": "0263d1d9",
   "metadata": {},
   "outputs": [],
   "source": [
    "all_neurons = np.arange(71)"
   ]
  },
  {
   "cell_type": "code",
   "execution_count": 27,
   "id": "bd90f77d",
   "metadata": {},
   "outputs": [],
   "source": [
    "for ind in all_neurons:\n",
    "    input_ind = input_spike[:,ind]\n",
    "    \n",
    "    dir0 = np.where(out_direction==0)[0]\n",
    "    box_0 = input_ind[dir0]\n",
    "    \n",
    "    dir1 = np.where(out_direction==1)[0]\n",
    "    box_1 = input_ind[dir1]\n",
    "    \n",
    "    dir2 = np.where(out_direction==2)[0]\n",
    "    box_2 = input_ind[dir2]\n",
    "    \n",
    "    dir3 = np.where(out_direction==3)[0]\n",
    "    box_3 = input_ind[dir3]\n",
    "    \n",
    "    dir4 = np.where(out_direction==4)[0]\n",
    "    box_4 = input_ind[dir4]\n",
    "    \n",
    "    dir5 = np.where(out_direction==5)[0]\n",
    "    box_5 = input_ind[dir5]\n",
    "    \n",
    "    F_statistic, pVal = stats.f_oneway(box_0,box_1,box_2,box_3,box_4,box_5)\n",
    "    F_values.append(F_statistic)"
   ]
  },
  {
   "cell_type": "code",
   "execution_count": 28,
   "id": "e6a25440",
   "metadata": {},
   "outputs": [
    {
     "name": "stdout",
     "output_type": "stream",
     "text": [
      "[16.63111879259825, 9.92827841627134, 2.7865859052437325, 3.8047144988512946, 3.541140689205393, 17.018985942917105, 12.770445975523414, 3.908000305538196, 87.70630827805769, 29.924900948487437, 79.78786240083774, 17.162627980130726, 27.039075764780048, 35.706781724995025, 29.086767687047, 1.7584956734432788, 0.9719867630655568, 1.880595113730215, 2.093588954566328, 10.048355069667725, 4.3413829154412475, 36.49353559300967, 27.158916451489162, 1.727973322654467, 1.5734823149665207, 3.214666890008031, 17.242718399875482, 6.487975938109394, 2.551992635708355, 3.6522503206660777, 34.014579268531676, 5.421521841194667, 16.932541172807774, 19.85194898654627, 24.752274985658598, 9.22738575189922, 3.003881532984815, 1.2347148235859735, 118.9172626329216, 5.679845559832287, 120.35693183731077, 19.241228003303515, 83.0586222709674, 1.296153017883454, 147.67197669995522, 1.4860846244585204, 2.4892483356261175, 2.5568607522939173, 25.87406356309272, 17.73365130015815, 17.583983509077978, 3.3568599910027874, 9.607889405631498, 1.3914679724922603, 11.302750837238902, 1.6695252591214669, 2.809148162823866, 1.6664024866078886, 8.407561929315753, 22.78816117571855, 6.1450795356685495, 2.9329724854202928, 5.377461943794505, 16.146344517678763, 190.89713557549746, 10.828932773818504, 1.108871236368891, 8.551304940504767, 57.483447579926874, 7.393876374327559, 5.105990664908957]\n"
     ]
    }
   ],
   "source": [
    "print(F_values)"
   ]
  },
  {
   "cell_type": "code",
   "execution_count": 50,
   "id": "5c287b2f",
   "metadata": {},
   "outputs": [],
   "source": [
    "F_values = np.array(F_values)"
   ]
  },
  {
   "cell_type": "code",
   "execution_count": 51,
   "id": "348256c4",
   "metadata": {},
   "outputs": [],
   "source": [
    "# high3 = [38,44, 64]\n",
    "high3 = [38,64]"
   ]
  },
  {
   "cell_type": "code",
   "execution_count": 52,
   "id": "c8f01651",
   "metadata": {},
   "outputs": [],
   "source": [
    "F_high3 = F_values[high3]"
   ]
  },
  {
   "cell_type": "code",
   "execution_count": 53,
   "id": "1807a884",
   "metadata": {},
   "outputs": [],
   "source": [
    "select7 = np.array([8,10,11,41,68])"
   ]
  },
  {
   "cell_type": "code",
   "execution_count": 54,
   "id": "da2dbcac",
   "metadata": {},
   "outputs": [],
   "source": [
    "F_sele7 = F_values[select7]"
   ]
  },
  {
   "cell_type": "code",
   "execution_count": 55,
   "id": "461f2937",
   "metadata": {},
   "outputs": [],
   "source": [
    "useless = np.array([0,1,2,3,4,5,6,7,15,16,17,18,19,20,23,25,28,33,36,37,43,45,46,47,48,49,50,51,52,53,54,55,56,58,59,60,61,62,65,66,69,70])"
   ]
  },
  {
   "cell_type": "code",
   "execution_count": 56,
   "id": "465840a4",
   "metadata": {},
   "outputs": [],
   "source": [
    "F_useless = F_values[useless]"
   ]
  },
  {
   "cell_type": "code",
   "execution_count": 57,
   "id": "f3e2fe6e",
   "metadata": {},
   "outputs": [
    {
     "name": "stdout",
     "output_type": "stream",
     "text": [
      "[38 64  8 10 11 41 68  0  1  2  3  4  5  6  7 15 16 17 18 19 20 23 25 28\n",
      " 33 36 37 43 45 46 47 48 49 50 51 52 53 54 55 56 58 59 60 61 62 65 66 69\n",
      " 70 40]\n"
     ]
    }
   ],
   "source": [
    "exclude = np.concatenate([high3,select7,useless,[40]])\n",
    "print(exclude)"
   ]
  },
  {
   "cell_type": "code",
   "execution_count": 58,
   "id": "a29462a5",
   "metadata": {},
   "outputs": [
    {
     "name": "stdout",
     "output_type": "stream",
     "text": [
      "[ 9 12 13 14 21 22 24 26 27 29 30 31 32 34 35 39 42 44 57 63 67]\n"
     ]
    }
   ],
   "source": [
    "others = np.delete(all_neurons,exclude)\n",
    "print(others)"
   ]
  },
  {
   "cell_type": "code",
   "execution_count": 59,
   "id": "b1de99d7",
   "metadata": {},
   "outputs": [],
   "source": [
    "F_others = F_values[others]"
   ]
  },
  {
   "cell_type": "markdown",
   "id": "898f0c30",
   "metadata": {},
   "source": [
    "bar plot"
   ]
  },
  {
   "cell_type": "code",
   "execution_count": 62,
   "id": "54eb0625",
   "metadata": {},
   "outputs": [
    {
     "data": {
      "image/png": "[encoded data removed]",
      "text/plain": [
       "<Figure size 720x360 with 1 Axes>"
      ]
     },
     "metadata": {
      "needs_background": "light"
     },
     "output_type": "display_data"
    }
   ],
   "source": [
    "F_values = np.array(F_values)\n",
    "with plt.style.context(['science','no-latex']):\n",
    "    fig, ax = plt.subplots(figsize = (10,5))\n",
    "    # ax.bar(high3,F_high3 , width = 0.5,color='#FA7F6F')\n",
    "    # ax.bar(select7, F_sele7, width = 0.5,color='#FEBE7A')\n",
    "    # ax.bar(others, F_others, width = 0.5,color='#8ECFC9')\n",
    "    # ax.bar(useless, F_useless, width = 0.5,color='#999999')\n",
    "    ax.bar(high3,F_high3 , width = 0.5,color='#FEBE7A')\n",
    "    ax.bar(select7, F_sele7, width = 0.5,color='#FEBE7A')\n",
    "    ax.bar(others, F_others, width = 0.5,color='#8ECFC9')\n",
    "    ax.bar(useless, F_useless, width = 0.5,color='#8ECFC9')\n",
    "    ax.set_title(f'$F_s$ of all the neurons',fontsize = 15)\n",
    "    ax.set_xlabel('Neurons',fontsize = 15)\n",
    "    ax.set_ylabel('$F_s$',fontsize=15)\n",
    "    ax.tick_params(axis='y',labelsize = 15)\n",
    "    ax.tick_params(axis='x',labelsize = 15)\n",
    "    # fig.savefig('Fsneurons.eps')"
   ]
  },
  {
   "cell_type": "code",
   "execution_count": null,
   "id": "89095567",
   "metadata": {},
   "outputs": [],
   "source": []
  }
 ],
 "metadata": {
  "kernelspec": {
   "display_name": "Python 3 (ipykernel)",
   "language": "python",
   "name": "python3"
  },
  "language_info": {
   "codemirror_mode": {
    "name": "ipython",
    "version": 3
   },
   "file_extension": ".py",
   "mimetype": "text/x-python",
   "name": "python",
   "nbconvert_exporter": "python",
   "pygments_lexer": "ipython3",
   "version": "3.9.12"
  }
 },
 "nbformat": 4,
 "nbformat_minor": 5
}
